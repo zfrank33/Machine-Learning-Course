{
 "cells": [
  {
   "cell_type": "markdown",
   "metadata": {
    "colab_type": "text",
    "id": "CazISR8X_HUG"
   },
   "source": [
    "# Multiple Linear Regression"
   ]
  },
  {
   "cell_type": "markdown",
   "metadata": {
    "colab_type": "text",
    "id": "pOyqYHTk_Q57"
   },
   "source": [
    "## Importing the libraries"
   ]
  },
  {
   "cell_type": "code",
   "execution_count": 9,
   "metadata": {
    "colab": {},
    "colab_type": "code",
    "id": "T_YHJjnD_Tja"
   },
   "outputs": [],
   "source": [
    "# as np, as plt, are aliases (just like in SQL) which cuts your typing time down\n",
    "import numpy as np \n",
    "# this library allows you to work with arrays\n",
    "import matplotlib.pyplot as plt \n",
    "#chart plotting\n",
    "import pandas as pd \n",
    "#allow us to not only import the dataset, but also create the matrix of features, \n",
    "#and the dependent variable vector."
   ]
  },
  {
   "cell_type": "markdown",
   "metadata": {
    "colab_type": "text",
    "id": "vgC61-ah_WIz"
   },
   "source": [
    "## Importing the dataset"
   ]
  },
  {
   "cell_type": "code",
   "execution_count": 10,
   "metadata": {
    "colab": {},
    "colab_type": "code",
    "id": "UrxyEKGn_ez7"
   },
   "outputs": [],
   "source": [
    "dataset = pd.read_csv('50_Startups.csv')\n",
    "X = dataset.iloc[:, :-1].values\n",
    "y = dataset.iloc[:, -1].values"
   ]
  },
  {
   "cell_type": "markdown",
   "metadata": {
    "colab_type": "text",
    "id": "VadrvE7s_lS9"
   },
   "source": [
    "## Encoding categorical data"
   ]
  },
  {
   "cell_type": "markdown",
   "metadata": {},
   "source": [
    "Feature Scaling is not needed for multiple linear regressions, the Coefficient takes care of it"
   ]
  },
  {
   "cell_type": "code",
   "execution_count": 11,
   "metadata": {},
   "outputs": [],
   "source": [
    "from sklearn.compose import ColumnTransformer\n",
    "from sklearn.preprocessing import OneHotEncoder\n",
    "ct = ColumnTransformer(transformers=[('encoder', OneHotEncoder(),[3])], remainder='passthrough')\n",
    "# 4th column needs to ber encoded\n",
    "X = np.array(ct.fit_transform(X))"
   ]
  },
  {
   "cell_type": "markdown",
   "metadata": {
    "colab_type": "text",
    "id": "WemVnqgeA70k"
   },
   "source": [
    "## Splitting the dataset into the Training set and Test set"
   ]
  },
  {
   "cell_type": "code",
   "execution_count": 4,
   "metadata": {},
   "outputs": [],
   "source": [
    "from sklearn.model_selection import train_test_split\n",
    "X_train, X_test, y_train, y_test = train_test_split (X, y, test_size = .2, random_state =0)"
   ]
  },
  {
   "cell_type": "markdown",
   "metadata": {
    "colab_type": "text",
    "id": "k-McZVsQBINc"
   },
   "source": [
    "## Training the Multiple Linear Regression model on the Training set"
   ]
  },
  {
   "cell_type": "markdown",
   "metadata": {},
   "source": [
    "The class that we're about to call to build our Multiple Linear Regression model will automatically identify the best features, that have the highest P values that are the most statistically significant to figure out how to predict the dependent variable (profit) with the highest accuracy"
   ]
  },
  {
   "cell_type": "markdown",
   "metadata": {},
   "source": [
    "It will be trained to understand the correlations between all your features all your features and the profit,which is your dependent variable, and then it will take care of the dummy variable trap and it will also take care of selecting the best\n",
    "features that are the most statistically significant."
   ]
  },
  {
   "cell_type": "code",
   "execution_count": 5,
   "metadata": {},
   "outputs": [
    {
     "data": {
      "text/plain": [
       "LinearRegression()"
      ]
     },
     "execution_count": 5,
     "metadata": {},
     "output_type": "execute_result"
    }
   ],
   "source": [
    "from sklearn.linear_model import LinearRegression \n",
    "# LinearRegression is the CLASS and a class, has not only instructions, but also tools called METHODS that complete actions\n",
    "# like training a model on a certain training set or predicting some future results on the test set.\n",
    "rg = LinearRegression() # no parameters needed, you can use the default\n",
    "# to call a METHOD we take the object and add a . then the METHOD itself\n",
    "# the fit method will train the simple linear regression model on the training set\n",
    "# X_train contains the independent variables of the training set(features) and y_train the dependent variable vector\n",
    "rg.fit(X_train, y_train)\n"
   ]
  },
  {
   "cell_type": "markdown",
   "metadata": {
    "colab_type": "text",
    "id": "xNkXL1YQBiBT"
   },
   "source": [
    "## Predicting the Test set results"
   ]
  },
  {
   "cell_type": "code",
   "execution_count": 6,
   "metadata": {},
   "outputs": [
    {
     "name": "stdout",
     "output_type": "stream",
     "text": [
      "[[103015.2  103282.38]\n",
      " [132582.28 144259.4 ]\n",
      " [132447.74 146121.95]\n",
      " [ 71976.1   77798.83]\n",
      " [178537.48 191050.39]\n",
      " [116161.24 105008.31]\n",
      " [ 67851.69  81229.06]\n",
      " [ 98791.73  97483.56]\n",
      " [113969.44 110352.25]\n",
      " [167921.07 166187.94]]\n"
     ]
    }
   ],
   "source": [
    "y_pred = rg.predict(X_test)\n",
    "# to  visualize the training set results and the test set results first we put the predictions into a new variable (y_pred)\n",
    "\n",
    "np.set_printoptions(precision=2)   #displays any numerical value w only 2 decimal points\n",
    "# to display the vectors profits and predicted profits next to each other use concatenate (which is a function on np)\n",
    "\n",
    "print(np.concatenate((y_pred.reshape(len(y_pred),1), y_test.reshape(len(y_test),1)),1)) \n",
    "\n",
    "#concatenate the 2 vectors of real profits and predicted profits so they are next to each other \n",
    "#Concatenate is a function of NumPy that allows to concatenate either vertically or horizontally, two vectors or even arrays\n",
    "# that are the same shape.  #first argument, is the tuple of arrays you want to concatenate, in this case y_pred and \n",
    "# y_test   .reshape is an atribute function that reshapes vectors or arrays. The input for that fucntions is the number\n",
    "#of elements in y_pred so use the len fucntion to figure that out and the 1 tell reshape there's only \n",
    "#1 coulmn (len(y_pred),1) Then repeat #for y-test.  \n",
    "#this is the first argument for concatenate ((y_pred.reshape(len(y_pred),1), y_test.reshape(len(y_test),1)) the second \n",
    "# is always 0 or 1   0 means that we wanna do a vertical concatenation and 1 means that we wanna do a horizontal\n",
    "#concatenation.\n"
   ]
  },
  {
   "cell_type": "code",
   "execution_count": null,
   "metadata": {},
   "outputs": [],
   "source": []
  }
 ],
 "metadata": {
  "colab": {
   "authorship_tag": "ABX9TyPhYhte6t7H4wEK4xPpDWT7",
   "name": "Multiple Linear Regression",
   "provenance": [],
   "toc_visible": true
  },
  "kernelspec": {
   "display_name": "Python 3 (ipykernel)",
   "language": "python",
   "name": "python3"
  },
  "language_info": {
   "codemirror_mode": {
    "name": "ipython",
    "version": 3
   },
   "file_extension": ".py",
   "mimetype": "text/x-python",
   "name": "python",
   "nbconvert_exporter": "python",
   "pygments_lexer": "ipython3",
   "version": "3.9.13"
  }
 },
 "nbformat": 4,
 "nbformat_minor": 1
}
